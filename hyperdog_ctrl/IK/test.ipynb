{
 "cells": [
  {
   "cell_type": "code",
   "execution_count": 6,
   "metadata": {},
   "outputs": [],
   "source": [
    "import controlVariables as var\n",
    "import numpy as np\n",
    "import math\n",
    "\n",
    "class InverseKinematics():\n",
    "    def __init__(self, FR_coord, FL_coord, BR_coord, BL_coord, eualarAng):\n",
    "        self.FR_coord = FR_coord\n",
    "        self.FL_coord = FL_coord\n",
    "        self.BR_coord = BR_coord\n",
    "        self.BL_coord = BL_coord\n",
    "        self.roll = eualarAng[0]\n",
    "        self.pitch = eualarAng[1]\n",
    "        self.yaw = eualarAng[2]\n",
    "\n",
    "\n",
    "    def rotMat(self):\n",
    "        M11 = np.cos(self.pitch)*np.cos(self.yaw)\n",
    "        M12 = np.sin(self.roll)*np.sin(self.pitch)*np.cos(self.yaw) - np.cos(self.roll)*np.sin(self.yaw)\n",
    "        M13 = np.cos(self.roll)*np.sin(self.pitch)*np.cos(self.yaw) + np.sin(self.roll)*np.sin(self.yaw)\n",
    "        M21 = np.cos(self.pitch)*np.sin(self.yaw)\n",
    "        M22 = np.sin(self.roll)*np.sin(self.pitch)*np.sin(self.yaw) + np.cos(self.roll)*np.cos(self.yaw)\n",
    "        M23 = np.cos(self.roll)*np.sin(self.pitch)*np.sin(self.yaw) - np.sin(self.roll)*np.cos(self.yaw)\n",
    "        M31 = -np.sin(self.pitch)\n",
    "        M32 = np.sin(self.roll)*np.cos(self.pitch)\n",
    "        M33 = np.cos(self.roll)*np.cos(self.pitch)\n",
    "        return np.array([\n",
    "                        [M11, M12, M13],\n",
    "                        [M21, M22, M23],\n",
    "                        [M31, M32, M33]\n",
    "                        ])\n",
    "\n",
    "\n"
   ]
  },
  {
   "cell_type": "code",
   "execution_count": 2,
   "metadata": {},
   "outputs": [
    {
     "data": {
      "text/plain": [
       "'        ^ X\\n           |\\n FL *------|-----* FR\\n    |      |     |  BODY_LENGTH\\n    |      |     |   300mm\\n    |      ------|---------> Y\\n    |            |\\n    |            |\\n    |            |\\n BL *------------* BR\\n      BODY WIDTH\\n        172mm\\n\\n\\n'"
      ]
     },
     "execution_count": 2,
     "metadata": {},
     "output_type": "execute_result"
    }
   ],
   "source": [
    "\"\"\"        ^ X\n",
    "           |\n",
    " FL *------|-----* FR\n",
    "    |      |     |  BODY_LENGTH\n",
    "    |      |     |   300mm\n",
    "    |      ------|---------> Y\n",
    "    |            |\n",
    "    |            |\n",
    "    |            |\n",
    " BL *------------* BR\n",
    "      BODY WIDTH\n",
    "        172mm\n",
    "\n",
    "\n",
    "\"\"\""
   ]
  },
  {
   "cell_type": "code",
   "execution_count": 8,
   "metadata": {},
   "outputs": [
    {
     "data": {
      "text/plain": [
       "array([  0., 104., 200.])"
      ]
     },
     "execution_count": 8,
     "metadata": {},
     "output_type": "execute_result"
    }
   ],
   "source": [
    "import numpy as np\n",
    "BODY_LENGTH = 300\n",
    "BODY_WIDTH  = 172\n",
    "\n",
    "FR = np.array([0, 104, 200])\n",
    "FL = np.array([0, 104, 200])\n",
    "BR = np.array([0, 104, 200])\n",
    "BL = np.array([0, 104, 200])\n",
    "eularAng = [0,  0, 0]\n",
    "eularAng = [np.deg2rad(eularAng[0]), np.deg2rad(eularAng[1]), np.deg2rad(eularAng[2])]\n",
    "\n",
    "IK = InverseKinematics(FR,FL,BR,BL, eularAng)\n",
    "\n",
    "np.dot(FR, IK.rotMat())"
   ]
  },
  {
   "cell_type": "code",
   "execution_count": 9,
   "metadata": {},
   "outputs": [],
   "source": [
    "\n",
    "joint_ang = np.zeros([3])\n",
    "\n",
    "M_R = np.array([1, 1, 1])\n",
    "M_L = np.array([1, -1, 1])\n",
    "M_F = np.array([1, 1, 1])\n",
    "M_B = np.array([-1, 1, 1])\n",
    "BODY_SCALE = np.array([BODY_LENGTH/2, BODY_WIDTH/2, 0])"
   ]
  },
  {
   "cell_type": "code",
   "execution_count": 10,
   "metadata": {},
   "outputs": [],
   "source": [
    "translate_FR = BODY_SCALE*M_F*M_R\n",
    "IK.FR_coord = (np.dot((IK.FR_coord * M_R + translate_FR), IK.rotMat()) - translate_FR) *M_R\n",
    "\n",
    "translate_FL = BODY_SCALE*M_F*M_L\n",
    "IK.FL_coord = (np.dot((IK.FL_coord * M_L + translate_FL), IK.rotMat()) - translate_FL)*M_L\n",
    "\n",
    "translate_BR = BODY_SCALE*M_B*M_R\n",
    "IK.BR_coord = (np.dot((IK.BR_coord * M_R + translate_BR), IK.rotMat()) - translate_BR) *M_R\n",
    "\n",
    "translate_BL = BODY_SCALE*M_B*M_L\n",
    "IK.BL_coord = (np.dot((IK.BL_coord * M_L + translate_BL), IK.rotMat()) - translate_BL) *M_L\n",
    "\n"
   ]
  },
  {
   "cell_type": "code",
   "execution_count": 11,
   "metadata": {},
   "outputs": [
    {
     "name": "stdout",
     "output_type": "stream",
     "text": [
      "[  0. 104. 200.] \n",
      " [  0. 104. 200.] \n",
      " [  0. 104. 200.] \n",
      " [  0. 104. 200.]\n"
     ]
    }
   ],
   "source": [
    "\n",
    "print(IK.FR_coord, '\\n', IK.FL_coord, '\\n', IK.BR_coord, '\\n', IK.BL_coord)\n"
   ]
  },
  {
   "cell_type": "code",
   "execution_count": 15,
   "metadata": {},
   "outputs": [],
   "source": [
    "def get_joint_angle(coord):\n",
    "    joint_ang = np.zeros([3])\n",
    "    r = np.sqrt(coord[0]**2 + coord[1]**2 + coord[2]**2)\n",
    "    print('r=', r, '  max r=', var.MAX_LEG_R)\n",
    "    if r < var.MIN_LEG_R or r > var.MAX_LEG_R:\n",
    "        pass\n",
    "    else:\n",
    "        r_yz = np.sqrt(coord[1]**2 + coord[2]**2) \n",
    "        alpha = np.arccos(coord[1]/r_yz)\n",
    "        th0 = np.arccos(var.L1/r_yz) - alpha #phi1 - phi2\n",
    "        if not np.isnan(th0):\n",
    "            var.JointAngles.target_angle[0] = th0\n",
    "            joint_ang[0] = th0\n",
    "\n",
    "        a = 2*var.L2*r_yz*np.sin(var.JointAngles.target_angle[0] + alpha)\n",
    "        b = 2*var.L2*coord[0]\n",
    "        c = coord[0]**2 + var.L2**2 - var.L3**2 + (a/(2*var.L2))**2\n",
    "        d = np.sqrt(a**2 + b**2)\n",
    "        beta = np.arccos(a/d)\n",
    "\n",
    "        if (coord[0] < 0 ):\n",
    "            beta = -beta\n",
    "        if a/d > 1 or a/d < -1 or c/d >1 or c/d < -1:\n",
    "            pass\n",
    "        else:\n",
    "            th1 = beta + np.arcsin(c/d)\n",
    "            if not np.isnan(th1):\n",
    "                var.JointAngles.target_angle[1] = th1\n",
    "                joint_ang[1] = th1\n",
    "            \n",
    "            th2 = np.arccos((coord[0] + var.L2*np.cos(var.JointAngles.target_angle[1]))/var.L3)\n",
    "            if not np.isnan(th2):\n",
    "                var.JointAngles.target_angle[2] = th2\n",
    "                joint_ang[2] = th2\n",
    "    return joint_ang\n",
    "\n",
    "\n",
    "\n"
   ]
  },
  {
   "cell_type": "code",
   "execution_count": 16,
   "metadata": {},
   "outputs": [
    {
     "name": "stdout",
     "output_type": "stream",
     "text": [
      "r= 225.42404485768594   max r= 316.4369587857104\n"
     ]
    },
    {
     "data": {
      "text/plain": [
       "array([0.        , 0.72972766, 0.72972766])"
      ]
     },
     "execution_count": 16,
     "metadata": {},
     "output_type": "execute_result"
    }
   ],
   "source": [
    "get_joint_angle(IK.FR_coord)"
   ]
  },
  {
   "cell_type": "code",
   "execution_count": 17,
   "metadata": {},
   "outputs": [],
   "source": [
    "from InverseKinematics import InverseKinematics \n",
    "IK = InverseKinematics()"
   ]
  },
  {
   "cell_type": "code",
   "execution_count": 44,
   "metadata": {},
   "outputs": [
    {
     "data": {
      "text/plain": [
       "array([0.        , 0.80307192, 0.9966936 ])"
      ]
     },
     "execution_count": 44,
     "metadata": {},
     "output_type": "execute_result"
    }
   ],
   "source": [
    "FR_coord = np.array([0, 104, 220])\n",
    "FL_coord = np.array([0, 104, 220])\n",
    "BR_coord = np.array([0, 104, 220])\n",
    "BL_coord = np.array([0, 104, 220])\n",
    "eularAng = [0, 0.1, 0]\n",
    "\n",
    "\n",
    "IK.get_FR_joint_angles(FR_coord, eularAng)"
   ]
  },
  {
   "cell_type": "code",
   "execution_count": 45,
   "metadata": {},
   "outputs": [
    {
     "data": {
      "text/plain": [
       "array([0.        , 0.80307192, 0.9966936 ])"
      ]
     },
     "execution_count": 45,
     "metadata": {},
     "output_type": "execute_result"
    }
   ],
   "source": [
    "IK.get_FL_joint_angles(FL_coord, eularAng)"
   ]
  },
  {
   "cell_type": "code",
   "execution_count": 46,
   "metadata": {},
   "outputs": [
    {
     "data": {
      "text/plain": [
       "array([0.        , 0.64878379, 0.85609385])"
      ]
     },
     "execution_count": 46,
     "metadata": {},
     "output_type": "execute_result"
    }
   ],
   "source": [
    "IK.get_BR_joint_angles(BR_coord, eularAng)"
   ]
  },
  {
   "cell_type": "code",
   "execution_count": 47,
   "metadata": {},
   "outputs": [
    {
     "data": {
      "text/plain": [
       "array([0.        , 0.64878379, 0.85609385])"
      ]
     },
     "execution_count": 47,
     "metadata": {},
     "output_type": "execute_result"
    }
   ],
   "source": [
    "IK.get_BL_joint_angles(BL_coord, eularAng)"
   ]
  },
  {
   "cell_type": "code",
   "execution_count": 1,
   "metadata": {},
   "outputs": [
    {
     "ename": "NameError",
     "evalue": "name 'IK' is not defined",
     "output_type": "error",
     "traceback": [
      "\u001b[0;31m---------------------------------------------------------------------------\u001b[0m",
      "\u001b[0;31mNameError\u001b[0m                                 Traceback (most recent call last)",
      "\u001b[1;32m/home/nd94/Projects/HyperDog_22/hyperdog_ros2_ws/src/hyperdog_ctrl/IK/test.ipynb Cell 14'\u001b[0m in \u001b[0;36m<module>\u001b[0;34m\u001b[0m\n\u001b[0;32m----> <a href='vscode-notebook-cell:/home/nd94/Projects/HyperDog_22/hyperdog_ros2_ws/src/hyperdog_ctrl/IK/test.ipynb#ch0000013?line=0'>1</a>\u001b[0m IK\u001b[39m.\u001b[39mMAX_LEG_R\n",
      "\u001b[0;31mNameError\u001b[0m: name 'IK' is not defined"
     ]
    }
   ],
   "source": [
    "IK.MAX_LEG_R"
   ]
  },
  {
   "cell_type": "code",
   "execution_count": 1,
   "metadata": {},
   "outputs": [
    {
     "data": {
      "text/plain": [
       "316.4369587857104"
      ]
     },
     "execution_count": 1,
     "metadata": {},
     "output_type": "execute_result"
    }
   ],
   "source": [
    "from InverseKinematics import InverseKinematics\n",
    "import numpy as np\n",
    "IK = InverseKinematics()\n",
    "IK.MAX_LEG_R"
   ]
  },
  {
   "cell_type": "code",
   "execution_count": 2,
   "metadata": {},
   "outputs": [
    {
     "data": {
      "text/plain": [
       "129.78773759373516"
      ]
     },
     "execution_count": 2,
     "metadata": {},
     "output_type": "execute_result"
    }
   ],
   "source": [
    "IK.MIN_LEG_R"
   ]
  },
  {
   "cell_type": "code",
   "execution_count": 19,
   "metadata": {},
   "outputs": [
    {
     "data": {
      "text/plain": [
       "array([346.43325475])"
      ]
     },
     "execution_count": 19,
     "metadata": {},
     "output_type": "execute_result"
    }
   ],
   "source": [
    "coord = [0,204,280]\n",
    "r = np.sqrt([coord[0]**2 + coord[1]**2 + coord[2]**2])\n",
    "r"
   ]
  },
  {
   "cell_type": "code",
   "execution_count": 20,
   "metadata": {},
   "outputs": [
    {
     "data": {
      "text/plain": [
       "True"
      ]
     },
     "execution_count": 20,
     "metadata": {},
     "output_type": "execute_result"
    }
   ],
   "source": [
    "IK.is_singularity(coord)"
   ]
  },
  {
   "cell_type": "code",
   "execution_count": 30,
   "metadata": {},
   "outputs": [],
   "source": [
    "import rclpy\n",
    "rclpy.init()\n",
    "node = rclpy.create_node(\"test1\")\n",
    "rclpy.shutdown()"
   ]
  },
  {
   "cell_type": "code",
   "execution_count": 29,
   "metadata": {},
   "outputs": [],
   "source": [
    "rclpy.shutdown()"
   ]
  },
  {
   "cell_type": "code",
   "execution_count": 31,
   "metadata": {},
   "outputs": [],
   "source": [
    "node.destroy_node()"
   ]
  },
  {
   "cell_type": "code",
   "execution_count": 29,
   "metadata": {},
   "outputs": [
    {
     "data": {
      "text/plain": [
       "True"
      ]
     },
     "execution_count": 29,
     "metadata": {},
     "output_type": "execute_result"
    }
   ],
   "source": [
    "a = [0,0,1,0]\n",
    "np.any(a) "
   ]
  },
  {
   "cell_type": "code",
   "execution_count": 68,
   "metadata": {},
   "outputs": [],
   "source": [
    "class CMD():\n",
    "    a =1\n",
    "    b=2\n",
    "    c=3\n",
    "\n",
    "\n",
    "class cmd_print():\n",
    "    def __init__(self, cmd):\n",
    "        self.cmd = cmd\n",
    "\n",
    "    def print(self):\n",
    "        print(self.cmd.c)\n",
    "        "
   ]
  },
  {
   "cell_type": "code",
   "execution_count": 69,
   "metadata": {},
   "outputs": [],
   "source": [
    "prnt = cmd_print(CMD)"
   ]
  },
  {
   "cell_type": "code",
   "execution_count": 70,
   "metadata": {},
   "outputs": [
    {
     "name": "stdout",
     "output_type": "stream",
     "text": [
      "3\n"
     ]
    }
   ],
   "source": [
    "prnt.print()"
   ]
  },
  {
   "cell_type": "code",
   "execution_count": 30,
   "metadata": {},
   "outputs": [],
   "source": [
    "a[1] = True"
   ]
  },
  {
   "cell_type": "code",
   "execution_count": 31,
   "metadata": {},
   "outputs": [
    {
     "data": {
      "text/plain": [
       "[0, True, 1, 0]"
      ]
     },
     "execution_count": 31,
     "metadata": {},
     "output_type": "execute_result"
    }
   ],
   "source": [
    "a"
   ]
  },
  {
   "cell_type": "code",
   "execution_count": null,
   "metadata": {},
   "outputs": [],
   "source": []
  }
 ],
 "metadata": {
  "interpreter": {
   "hash": "916dbcbb3f70747c44a77c7bcd40155683ae19c65e1c03b4aa3499c5328201f1"
  },
  "kernelspec": {
   "display_name": "Python 3.8.10 64-bit",
   "language": "python",
   "name": "python3"
  },
  "language_info": {
   "codemirror_mode": {
    "name": "ipython",
    "version": 3
   },
   "file_extension": ".py",
   "mimetype": "text/x-python",
   "name": "python",
   "nbconvert_exporter": "python",
   "pygments_lexer": "ipython3",
   "version": "3.8.10"
  },
  "orig_nbformat": 4
 },
 "nbformat": 4,
 "nbformat_minor": 2
}
